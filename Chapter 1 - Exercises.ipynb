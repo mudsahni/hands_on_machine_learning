{
 "cells": [
  {
   "cell_type": "markdown",
   "metadata": {},
   "source": [
    "### How would you define Machine Learning?\n",
    "Machine Learning is any algorithmic approach where the machine \"learns\" by recognizing patterns in a flow of input rather than following a predetermined set of rules. It gives computers the ability to learn without being explicitly programmed. \n",
    "\n",
    "$\\text{A computer program is said to learn from experience E with respect to some task T and some performance measure P, if its performance on T,}$\n",
    "$\\text{as measured by P, improves with experience E.}$"
   ]
  },
  {
   "cell_type": "markdown",
   "metadata": {},
   "source": [
    "### Can you name four types of problems where it shines?\n",
    "- Problems where systems require a lot of hand written rules which are constantly liable to change. In these kind of problems machine learning algorithms can make the development process far more robust and efficient.\n",
    "\n",
    "- Complex problems for which there does not exist a good solution using the traditional approach. Machine learning can help find an approximate solution to these problems.\n",
    "\n",
    "- Problems which are constantly being changed in terms of their environments and inputs. Machine learning alogrithms can adapt to changing environments better than predetermined rules.\n",
    "\n",
    "- Whenever a problem deals with a large amount of data then machine learning can be an effective tool to infer insights from it."
   ]
  },
  {
   "cell_type": "markdown",
   "metadata": {},
   "source": [
    "### What is a labeled training set?\n",
    "A training set is the data which is fed into a machine learning algorithm for it to statistically learn a set of weights based on the patterns in the data. In contrast a test set is part of the same data distribution which is used to see how well do learned weights generalize to new unseen data.\n",
    "\n",
    "A labeled training set is one where the predictor variable is also part of the training data."
   ]
  },
  {
   "cell_type": "markdown",
   "metadata": {},
   "source": [
    "### What are the two most common supervised tasks?\n",
    "- Regression\n",
    "- Classification"
   ]
  },
  {
   "cell_type": "markdown",
   "metadata": {},
   "source": [
    "### Can you name four common unsupervised tasks?\n",
    "- Clustering\n",
    "- Dimensionality Reduction\n",
    "- Anomaly Detection\n",
    "- Feature Extraction"
   ]
  },
  {
   "cell_type": "markdown",
   "metadata": {},
   "source": [
    "### What type of Machine Learning algorithm would you use to allow a robot to walk in various unknown terrains?\n",
    "- Reinforcement Learning"
   ]
  },
  {
   "cell_type": "markdown",
   "metadata": {},
   "source": [
    "### What type of algorithm would you use to segment your customers into various groups?\n",
    "This is an unsupervised learning problem as we do not have labels of how our customers should be segmented (if we had that, our problem would've already been solved). We would use a clustering algorithm to group similar customers together. "
   ]
  },
  {
   "cell_type": "markdown",
   "metadata": {},
   "source": [
    "### Would you frame the problem of spam detection as a supervised or unsupervised learning problem?\n",
    "The problem of spam detection is a supervised learning problem as it requires a training dataset which has been marked as spam. The label of spam need not be explicit, there could be various ways of marking a particular email as spam:\n",
    "- explicit identification\n",
    "- based on user activity like reading, deletion, response\n",
    "- based on content of emial\n"
   ]
  },
  {
   "cell_type": "markdown",
   "metadata": {},
   "source": [
    "### What is an online learning system?\n",
    "In online learning, we train the system incrementally by feeding it data instances sequentially, either individually or by small groups called mini batches. Each step is fast and cheap and the system learns about new data on the fly.\n",
    "\n",
    "Online learning is great for systems which receive data as a continuous flow (eg. stock prices) and need to adapt to change rapidly or autonomously. "
   ]
  },
  {
   "cell_type": "markdown",
   "metadata": {},
   "source": [
    "### What is out-of-core learning?\n",
    "When learning has to happen on data which cannot fit on the machines main memory, then we can employ incremental learning through online learning."
   ]
  },
  {
   "cell_type": "markdown",
   "metadata": {},
   "source": [
    "### What type of learning algorithm relies on a similarity measure to make predictions?\n",
    "K-means clustering, k-nearest neighbors."
   ]
  },
  {
   "cell_type": "markdown",
   "metadata": {},
   "source": [
    "### What is the difference between a model parameter and a learning algorithm’s hyperparameter?\n",
    "A model paramter is one which is directly being used to train the model to learn and thus will be affected by the learning model. A hyperparamter is a parameter of the learning algorithm and thus will not be affected by the learning algrithm rather will cause effect on it."
   ]
  },
  {
   "cell_type": "markdown",
   "metadata": {},
   "source": [
    "### What do model-based learning algorithms search for? What is the most common strategy they use to succeed? How do they make predictions?\n"
   ]
  },
  {
   "cell_type": "code",
   "execution_count": null,
   "metadata": {},
   "outputs": [],
   "source": []
  }
 ],
 "metadata": {
  "kernelspec": {
   "display_name": "Python 3",
   "language": "python",
   "name": "python3"
  },
  "language_info": {
   "codemirror_mode": {
    "name": "ipython",
    "version": 3
   },
   "file_extension": ".py",
   "mimetype": "text/x-python",
   "name": "python",
   "nbconvert_exporter": "python",
   "pygments_lexer": "ipython3",
   "version": "3.6.7"
  }
 },
 "nbformat": 4,
 "nbformat_minor": 2
}
